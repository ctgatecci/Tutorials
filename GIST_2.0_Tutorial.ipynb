{
 "cells": [
  {
   "cell_type": "markdown",
   "metadata": {},
   "source": [
    "#  GIST 2.0 Tutorial"
   ]
  },
  {
   "cell_type": "markdown",
   "metadata": {},
   "source": [
    "In this tutorial, we'll use an example clinical trial(NCTID: NCT00025337) to demonstrate the calculation of GIST 2.0 for this trial.\n",
    "\n",
    "After reading this tutorial, you will be able to calculate the sGIST for different traits and mGIST for the whole trial.\n",
    "\n",
    "First, let's get started with importing libraries:"
   ]
  },
  {
   "cell_type": "code",
   "execution_count": 1,
   "metadata": {},
   "outputs": [],
   "source": [
    "import os\n",
    "import pandas as pd\n",
    "import numpy as np\n",
    "from sklearn.svm import SVR\n",
    "import functools\n",
    "import matplotlib.pyplot as plt\n",
    "import seaborn as sns\n",
    "from sklearn.impute import SimpleImputer\n",
    "%matplotlib inline\n",
    "pd.set_option('display.max_rows', 500)"
   ]
  },
  {
   "cell_type": "markdown",
   "metadata": {},
   "source": [
    "### Import and explore data"
   ]
  },
  {
   "cell_type": "markdown",
   "metadata": {},
   "source": [
    "Load data as a dataframe: "
   ]
  },
  {
   "cell_type": "code",
   "execution_count": 2,
   "metadata": {
    "scrolled": true
   },
   "outputs": [],
   "source": [
    "# Get the absolute path of the file\n",
    "file_path = os.path.abspath(\"CRC_AE_FINAL.xlsx\")\n",
    "# Load data as a dataframe\n",
    "tp_data = pd.read_excel(file_path)"
   ]
  },
  {
   "cell_type": "code",
   "execution_count": 3,
   "metadata": {},
   "outputs": [
    {
     "data": {
      "text/plain": [
       "(2772, 13)"
      ]
     },
     "execution_count": 3,
     "metadata": {},
     "output_type": "execute_result"
    }
   ],
   "source": [
    "tp_data.shape"
   ]
  },
  {
   "cell_type": "markdown",
   "metadata": {},
   "source": [
    "Take a look at the first five rows of the dataframe:"
   ]
  },
  {
   "cell_type": "code",
   "execution_count": 4,
   "metadata": {
    "scrolled": false
   },
   "outputs": [
    {
     "data": {
      "text/html": [
       "<div>\n",
       "<style scoped>\n",
       "    .dataframe tbody tr th:only-of-type {\n",
       "        vertical-align: middle;\n",
       "    }\n",
       "\n",
       "    .dataframe tbody tr th {\n",
       "        vertical-align: top;\n",
       "    }\n",
       "\n",
       "    .dataframe thead th {\n",
       "        text-align: right;\n",
       "    }\n",
       "</style>\n",
       "<table border=\"1\" class=\"dataframe\">\n",
       "  <thead>\n",
       "    <tr style=\"text-align: right;\">\n",
       "      <th></th>\n",
       "      <th>AGE_LAST_PX</th>\n",
       "      <th>coagulation</th>\n",
       "      <th>brain_metastases</th>\n",
       "      <th>angina</th>\n",
       "      <th>MI</th>\n",
       "      <th>HF</th>\n",
       "      <th>ureteral_stents</th>\n",
       "      <th>pregnant</th>\n",
       "      <th>1920-8</th>\n",
       "      <th>6301-6</th>\n",
       "      <th>Oxaliplatin</th>\n",
       "      <th>DIASTOLIC</th>\n",
       "      <th>SYSTOLIC</th>\n",
       "    </tr>\n",
       "  </thead>\n",
       "  <tbody>\n",
       "    <tr>\n",
       "      <th>0</th>\n",
       "      <td>74</td>\n",
       "      <td>0</td>\n",
       "      <td>0</td>\n",
       "      <td>0</td>\n",
       "      <td>0</td>\n",
       "      <td>0</td>\n",
       "      <td>0</td>\n",
       "      <td>0</td>\n",
       "      <td>NaN</td>\n",
       "      <td>NaN</td>\n",
       "      <td>1</td>\n",
       "      <td>NaN</td>\n",
       "      <td>NaN</td>\n",
       "    </tr>\n",
       "    <tr>\n",
       "      <th>1</th>\n",
       "      <td>74</td>\n",
       "      <td>0</td>\n",
       "      <td>0</td>\n",
       "      <td>0</td>\n",
       "      <td>0</td>\n",
       "      <td>0</td>\n",
       "      <td>0</td>\n",
       "      <td>0</td>\n",
       "      <td>NaN</td>\n",
       "      <td>NaN</td>\n",
       "      <td>1</td>\n",
       "      <td>61.0</td>\n",
       "      <td>143.0</td>\n",
       "    </tr>\n",
       "    <tr>\n",
       "      <th>2</th>\n",
       "      <td>61</td>\n",
       "      <td>0</td>\n",
       "      <td>0</td>\n",
       "      <td>0</td>\n",
       "      <td>1</td>\n",
       "      <td>0</td>\n",
       "      <td>0</td>\n",
       "      <td>0</td>\n",
       "      <td>NaN</td>\n",
       "      <td>NaN</td>\n",
       "      <td>1</td>\n",
       "      <td>NaN</td>\n",
       "      <td>NaN</td>\n",
       "    </tr>\n",
       "    <tr>\n",
       "      <th>3</th>\n",
       "      <td>40</td>\n",
       "      <td>0</td>\n",
       "      <td>0</td>\n",
       "      <td>0</td>\n",
       "      <td>0</td>\n",
       "      <td>0</td>\n",
       "      <td>0</td>\n",
       "      <td>0</td>\n",
       "      <td>NaN</td>\n",
       "      <td>NaN</td>\n",
       "      <td>0</td>\n",
       "      <td>NaN</td>\n",
       "      <td>NaN</td>\n",
       "    </tr>\n",
       "    <tr>\n",
       "      <th>4</th>\n",
       "      <td>68</td>\n",
       "      <td>0</td>\n",
       "      <td>0</td>\n",
       "      <td>0</td>\n",
       "      <td>1</td>\n",
       "      <td>0</td>\n",
       "      <td>0</td>\n",
       "      <td>0</td>\n",
       "      <td>NaN</td>\n",
       "      <td>NaN</td>\n",
       "      <td>1</td>\n",
       "      <td>73.0</td>\n",
       "      <td>162.0</td>\n",
       "    </tr>\n",
       "  </tbody>\n",
       "</table>\n",
       "</div>"
      ],
      "text/plain": [
       "   AGE_LAST_PX  coagulation  brain_metastases  angina  MI  HF  \\\n",
       "0           74            0                 0       0   0   0   \n",
       "1           74            0                 0       0   0   0   \n",
       "2           61            0                 0       0   1   0   \n",
       "3           40            0                 0       0   0   0   \n",
       "4           68            0                 0       0   1   0   \n",
       "\n",
       "   ureteral_stents  pregnant  1920-8  6301-6  Oxaliplatin  DIASTOLIC  SYSTOLIC  \n",
       "0                0         0     NaN     NaN            1        NaN       NaN  \n",
       "1                0         0     NaN     NaN            1       61.0     143.0  \n",
       "2                0         0     NaN     NaN            1        NaN       NaN  \n",
       "3                0         0     NaN     NaN            0        NaN       NaN  \n",
       "4                0         0     NaN     NaN            1       73.0     162.0  "
      ]
     },
     "execution_count": 4,
     "metadata": {},
     "output_type": "execute_result"
    }
   ],
   "source": [
    "tp_data.head()"
   ]
  },
  {
   "cell_type": "markdown",
   "metadata": {},
   "source": [
    "### Data Preprocessing"
   ]
  },
  {
   "cell_type": "markdown",
   "metadata": {},
   "source": [
    "Replace all the Null value to Nan:"
   ]
  },
  {
   "cell_type": "code",
   "execution_count": 5,
   "metadata": {
    "scrolled": true
   },
   "outputs": [],
   "source": [
    "tp_data = tp_data.replace('NULL', np.nan)"
   ]
  },
  {
   "cell_type": "markdown",
   "metadata": {},
   "source": [
    "Transfer the categorical data columns to category data type:"
   ]
  },
  {
   "cell_type": "code",
   "execution_count": 6,
   "metadata": {},
   "outputs": [],
   "source": [
    "for col in [\n",
    " 'coagulation',\n",
    " 'brain_metastases',\n",
    " 'angina',\n",
    " 'MI',\n",
    " 'HF',\n",
    " 'ureteral_stents',\n",
    " 'pregnant',\n",
    " 'Oxaliplatin']:\n",
    "    \n",
    "    tp_data[col] = tp_data[col].astype('category')"
   ]
  },
  {
   "cell_type": "markdown",
   "metadata": {},
   "source": [
    "Exploring missing values and handling missing values"
   ]
  },
  {
   "cell_type": "code",
   "execution_count": 7,
   "metadata": {},
   "outputs": [],
   "source": [
    "def check_missing(data):\n",
    "    total = data.isnull().sum().sort_values(ascending=False)\n",
    "    percentage = (data.isnull().sum()/data.isnull().count()).sort_values(ascending=False)\n",
    "    missing_data = pd.concat([total, percentage*100], axis=1, keys=['# of Missing', 'percentage %'])\n",
    "    return missing_data"
   ]
  },
  {
   "cell_type": "code",
   "execution_count": 8,
   "metadata": {
    "scrolled": true
   },
   "outputs": [
    {
     "name": "stdout",
     "output_type": "stream",
     "text": [
      "                  # of Missing  percentage %\n",
      "6301-6                    2671     96.356421\n",
      "1920-8                    2667     96.212121\n",
      "SYSTOLIC                  2397     86.471861\n",
      "DIASTOLIC                 2397     86.471861\n",
      "Oxaliplatin                  0      0.000000\n",
      "pregnant                     0      0.000000\n",
      "ureteral_stents              0      0.000000\n",
      "HF                           0      0.000000\n",
      "MI                           0      0.000000\n",
      "angina                       0      0.000000\n",
      "brain_metastases             0      0.000000\n",
      "coagulation                  0      0.000000\n",
      "AGE_LAST_PX                  0      0.000000\n"
     ]
    }
   ],
   "source": [
    "print(check_missing(tp_data))"
   ]
  },
  {
   "cell_type": "markdown",
   "metadata": {},
   "source": [
    "Note that we have 2772 observations in total.\n",
    "We can see from the output that column '6301-6', '1920-8','SYSTOLIC' and 'DIASTOLIC' are missing most of the values, while other columns have no missing values."
   ]
  },
  {
   "cell_type": "markdown",
   "metadata": {},
   "source": [
    "Dealing with missing values"
   ]
  },
  {
   "cell_type": "code",
   "execution_count": 9,
   "metadata": {},
   "outputs": [],
   "source": [
    "imp = SimpleImputer(missing_values=np.nan, strategy='median')\n",
    "# Filling these missing values with their median\n",
    "imp_list = ['6301-6','1920-8','SYSTOLIC','DIASTOLIC']\n",
    "imp.fit(tp_data[imp_list])\n",
    "tp_data_imputed = tp_data\n",
    "tp_data_imputed[imp_list] = imp.transform(tp_data[imp_list])"
   ]
  },
  {
   "cell_type": "markdown",
   "metadata": {},
   "source": [
    "Ceck the missing values again"
   ]
  },
  {
   "cell_type": "code",
   "execution_count": 10,
   "metadata": {
    "scrolled": true
   },
   "outputs": [
    {
     "name": "stdout",
     "output_type": "stream",
     "text": [
      "                  # of Missing  percentage %\n",
      "SYSTOLIC                     0           0.0\n",
      "DIASTOLIC                    0           0.0\n",
      "Oxaliplatin                  0           0.0\n",
      "6301-6                       0           0.0\n",
      "1920-8                       0           0.0\n",
      "pregnant                     0           0.0\n",
      "ureteral_stents              0           0.0\n",
      "HF                           0           0.0\n",
      "MI                           0           0.0\n",
      "angina                       0           0.0\n",
      "brain_metastases             0           0.0\n",
      "coagulation                  0           0.0\n",
      "AGE_LAST_PX                  0           0.0\n"
     ]
    }
   ],
   "source": [
    "print(check_missing(tp_data_imputed))"
   ]
  },
  {
   "cell_type": "markdown",
   "metadata": {},
   "source": [
    "Check one of the imputed column"
   ]
  },
  {
   "cell_type": "code",
   "execution_count": 11,
   "metadata": {
    "scrolled": true
   },
   "outputs": [
    {
     "data": {
      "text/plain": [
       "0    23.0\n",
       "1    23.0\n",
       "2    23.0\n",
       "3    23.0\n",
       "4    23.0\n",
       "Name: 1920-8, dtype: float64"
      ]
     },
     "execution_count": 11,
     "metadata": {},
     "output_type": "execute_result"
    }
   ],
   "source": [
    "tp_data_imputed['1920-8'].head()"
   ]
  },
  {
   "cell_type": "markdown",
   "metadata": {},
   "source": [
    "###  Calculation"
   ]
  },
  {
   "cell_type": "markdown",
   "metadata": {},
   "source": [
    "Define a class that is able to calculate part of GIST"
   ]
  },
  {
   "cell_type": "code",
   "execution_count": 12,
   "metadata": {},
   "outputs": [],
   "source": [
    "# Eligibility class\n",
    "class Elig:\n",
    "    def __init__(self,\n",
    "                 var_name: str = None, # variable name\n",
    "                 is_range: bool = True, # True means continuous variable\n",
    "                 low_bound: float = None, # lower bound for eligible creteria\n",
    "                 upp_bound: float = None, # upper bound for eligible creteria\n",
    "                 equal_to: float = None): # For categorical variables, 0 for presence, 1 for absence\n",
    "        self.var_name = var_name\n",
    "        self.is_range = is_range\n",
    "        self.low_bound = low_bound\n",
    "        self.upp_bound = upp_bound\n",
    "        self.equal_to = equal_to\n",
    " \n",
    "    # Check if a patient meets a certain criterion or not: elig_status return True or False.\n",
    "    def get_elig(self, data):\n",
    "        if self.is_range:\n",
    "            if self.low_bound is None and self.upp_bound is not None:\n",
    "                elig_status = (data[self.var_name] <= self.upp_bound)\n",
    "            if self.low_bound is not None and self.upp_bound is None:\n",
    "                elig_status = (data[self.var_name] >= self.low_bound)\n",
    "            if self.low_bound is not None and self.upp_bound is not None:\n",
    "                elig_status = ((data[self.var_name] >= self.low_bound) & (data[self.var_name] <= self.upp_bound))\n",
    "        else:\n",
    "            elig_status = (data[self.var_name] == self.equal_to)\n",
    "        return elig_status\n",
    "    \n",
    "    # Calculate the stringency of a certain criterion\n",
    "    def get_stringency(self, data):\n",
    "        if self.is_range:\n",
    "            elig_n = data.loc[(data[self.var_name] >= self.low_bound) & (data[self.var_name] <= self.upp_bound), self.var_name].shape[0]\n",
    "        else:\n",
    "            elig_n = data.loc[(data[self.var_name] == self.equal_to), self.var_name].shape[0]\n",
    "        stringency = 1 - elig_n / data.shape[0]\n",
    "        return max(stringency, 0.01)\n",
    "    \n",
    "    # Calculate sGIST (single trait GIST) for a particular criterion \n",
    "    def get_gist(self, data):\n",
    "        gist = sum(data.loc[self.get_elig(data), 'f_weight']) / sum(data.f_weight)\n",
    "        return gist"
   ]
  },
  {
   "cell_type": "markdown",
   "metadata": {},
   "source": [
    "Set up the eligibility criteria used for calculating GIST 2.0"
   ]
  },
  {
   "cell_type": "code",
   "execution_count": 13,
   "metadata": {},
   "outputs": [],
   "source": [
    "Tle_AGE_LAST_PX = Elig(var_name='AGE_LAST_PX',low_bound=18)\n",
    "\n",
    "T1e_brain_metastases = Elig(var_name='brain_metastases',is_range=False,equal_to=0)\n",
    "\n",
    "T1e_coagulation = Elig(var_name='coagulation',is_range=False,equal_to=0)\n",
    "\n",
    "T1e_angina = Elig(var_name='angina',is_range=False,equal_to=0)\n",
    "\n",
    "T1e_MI = Elig(var_name='MI',is_range=False,equal_to=0)\n",
    "\n",
    "T1e_HF = Elig(var_name='HF',is_range=False,equal_to=0)\n",
    "\n",
    "T1e_ureteral_stents = Elig(var_name='ureteral_stents',is_range=False,equal_to=0)\n",
    "\n",
    "T1e_pregnant = Elig(var_name='pregnant',is_range=False,equal_to=0)\n",
    "\n",
    "T1e_Oxaliplatin = Elig(var_name='Oxaliplatin',is_range=False,equal_to=1)\n",
    "\n",
    "T1e_DIASTOLIC = Elig(var_name='DIASTOLIC',upp_bound=100)\n",
    "\n",
    "T1e_SYSTOLIC = Elig(var_name='SYSTOLIC',upp_bound=150)\n",
    "\n",
    "T1e_1920_8 = Elig(var_name='1920-8',upp_bound=125)\n",
    "\n",
    "T1e_6301_6 = Elig(var_name='6301-6',upp_bound=1.5)"
   ]
  },
  {
   "cell_type": "markdown",
   "metadata": {},
   "source": [
    "Get the list of eligibility criteria"
   ]
  },
  {
   "cell_type": "code",
   "execution_count": 14,
   "metadata": {},
   "outputs": [],
   "source": [
    "# Categorical eligible traits list\n",
    "cate_elig_list = [T1e_brain_metastases,T1e_coagulation,T1e_angina,T1e_MI,T1e_HF,T1e_ureteral_stents,T1e_pregnant]\n",
    "# Continuous eligible traits list\n",
    "cont_elig_list = [Tle_AGE_LAST_PX]\n",
    "# Eligible list\n",
    "elig_list = cate_elig_list + cont_elig_list"
   ]
  },
  {
   "cell_type": "markdown",
   "metadata": {},
   "source": [
    "Drop the rows with missing values"
   ]
  },
  {
   "cell_type": "code",
   "execution_count": 15,
   "metadata": {},
   "outputs": [
    {
     "data": {
      "text/plain": [
       "(2772, 8)"
      ]
     },
     "execution_count": 15,
     "metadata": {},
     "output_type": "execute_result"
    }
   ],
   "source": [
    "TP = tp_data_imputed[[\n",
    " 'AGE_LAST_PX',\n",
    " 'brain_metastases',\n",
    " 'coagulation',\n",
    " 'angina',\n",
    " 'MI',\n",
    " 'HF',\n",
    " 'ureteral_stents',\n",
    " 'pregnant']].dropna()\n",
    "\n",
    "TP.shape"
   ]
  },
  {
   "cell_type": "markdown",
   "metadata": {},
   "source": [
    "After dropping rows with missing values, we found out that the number of rows remain the same, which means that  there were no missing values. Now, let's take a look at what the dataframe look like."
   ]
  },
  {
   "cell_type": "code",
   "execution_count": 16,
   "metadata": {
    "scrolled": true
   },
   "outputs": [
    {
     "data": {
      "text/html": [
       "<div>\n",
       "<style scoped>\n",
       "    .dataframe tbody tr th:only-of-type {\n",
       "        vertical-align: middle;\n",
       "    }\n",
       "\n",
       "    .dataframe tbody tr th {\n",
       "        vertical-align: top;\n",
       "    }\n",
       "\n",
       "    .dataframe thead th {\n",
       "        text-align: right;\n",
       "    }\n",
       "</style>\n",
       "<table border=\"1\" class=\"dataframe\">\n",
       "  <thead>\n",
       "    <tr style=\"text-align: right;\">\n",
       "      <th></th>\n",
       "      <th>AGE_LAST_PX</th>\n",
       "      <th>brain_metastases</th>\n",
       "      <th>coagulation</th>\n",
       "      <th>angina</th>\n",
       "      <th>MI</th>\n",
       "      <th>HF</th>\n",
       "      <th>ureteral_stents</th>\n",
       "      <th>pregnant</th>\n",
       "    </tr>\n",
       "  </thead>\n",
       "  <tbody>\n",
       "    <tr>\n",
       "      <th>0</th>\n",
       "      <td>74</td>\n",
       "      <td>0</td>\n",
       "      <td>0</td>\n",
       "      <td>0</td>\n",
       "      <td>0</td>\n",
       "      <td>0</td>\n",
       "      <td>0</td>\n",
       "      <td>0</td>\n",
       "    </tr>\n",
       "    <tr>\n",
       "      <th>1</th>\n",
       "      <td>74</td>\n",
       "      <td>0</td>\n",
       "      <td>0</td>\n",
       "      <td>0</td>\n",
       "      <td>0</td>\n",
       "      <td>0</td>\n",
       "      <td>0</td>\n",
       "      <td>0</td>\n",
       "    </tr>\n",
       "    <tr>\n",
       "      <th>2</th>\n",
       "      <td>61</td>\n",
       "      <td>0</td>\n",
       "      <td>0</td>\n",
       "      <td>0</td>\n",
       "      <td>1</td>\n",
       "      <td>0</td>\n",
       "      <td>0</td>\n",
       "      <td>0</td>\n",
       "    </tr>\n",
       "    <tr>\n",
       "      <th>3</th>\n",
       "      <td>40</td>\n",
       "      <td>0</td>\n",
       "      <td>0</td>\n",
       "      <td>0</td>\n",
       "      <td>0</td>\n",
       "      <td>0</td>\n",
       "      <td>0</td>\n",
       "      <td>0</td>\n",
       "    </tr>\n",
       "    <tr>\n",
       "      <th>4</th>\n",
       "      <td>68</td>\n",
       "      <td>0</td>\n",
       "      <td>0</td>\n",
       "      <td>0</td>\n",
       "      <td>1</td>\n",
       "      <td>0</td>\n",
       "      <td>0</td>\n",
       "      <td>0</td>\n",
       "    </tr>\n",
       "  </tbody>\n",
       "</table>\n",
       "</div>"
      ],
      "text/plain": [
       "   AGE_LAST_PX brain_metastases coagulation angina MI HF ureteral_stents  \\\n",
       "0           74                0           0      0  0  0               0   \n",
       "1           74                0           0      0  0  0               0   \n",
       "2           61                0           0      0  1  0               0   \n",
       "3           40                0           0      0  0  0               0   \n",
       "4           68                0           0      0  1  0               0   \n",
       "\n",
       "  pregnant  \n",
       "0        0  \n",
       "1        0  \n",
       "2        0  \n",
       "3        0  \n",
       "4        0  "
      ]
     },
     "execution_count": 16,
     "metadata": {},
     "output_type": "execute_result"
    }
   ],
   "source": [
    "TP.head()"
   ]
  },
  {
   "cell_type": "markdown",
   "metadata": {},
   "source": [
    "Now we get data ready and let's check out how to calculate GIST."
   ]
  },
  {
   "cell_type": "markdown",
   "metadata": {},
   "source": [
    "### GIST Calculation Algorithm"
   ]
  },
  {
   "cell_type": "markdown",
   "metadata": {},
   "source": [
    "1.Standardize the summarized continuous traits of every patient using the mean and the standard deviation (SD). For any continuous trait $f_{j}$, let $\\mu_{j}$and $\\sigma_{j}$ denote its mean and SD over the EP patients. Then the standardized patient is $\\tilde{P}_{i}=\\left(\\tilde{f}_{1}^{i}, \\tilde{f}_{2}^{i}, \\ldots, \\tilde{f}_{n}^{i}\\right)$, with $\\tilde{f}_{j}^{i}=\\frac{f_{j}^{i}-\\mu_{j}}{\\sigma_{j}}$ , for continuous traits and remaining unchanged $\\left(\\tilde{f}_{j}^{i}=f_{j}^{i}\\right)$."
   ]
  },
  {
   "cell_type": "code",
   "execution_count": 17,
   "metadata": {},
   "outputs": [],
   "source": [
    "# normalizing all the continuous features\n",
    "for col in TP._get_numeric_data().columns:\n",
    "    TP[col+'_z'] = (TP[col] - np.mean(TP[col]))/np.std(TP[col])"
   ]
  },
  {
   "cell_type": "markdown",
   "metadata": {},
   "source": [
    "2.Use the stringency-based method described above to calculate the significance $s_{j}$, of each trait. For a patient with standardized traits  $\\hat{P}_{i}$, compute its significance-scaled form by $\\hat{P}_{i}=\\left(\\tilde{f}_{1}^{i}, \\ldots, \\hat{f}_{n}^{i}\\right)=\\left(s_{1} \\tilde{f}_{1}^{i}, \\ldots, s_{n} \\tilde{f}_{n}^{i}\\right)$ . "
   ]
  },
  {
   "cell_type": "markdown",
   "metadata": {},
   "source": [
    "    "
   ]
  },
  {
   "cell_type": "code",
   "execution_count": 18,
   "metadata": {
    "scrolled": true
   },
   "outputs": [],
   "source": [
    "# calculate stringency for each eligibility\n",
    "# get_stringency function was defined in the Elig class above.\n",
    "for elig in cont_elig_list:\n",
    "    s = elig.get_stringency(TP)"
   ]
  },
  {
   "cell_type": "code",
   "execution_count": 19,
   "metadata": {},
   "outputs": [],
   "source": [
    "# apply stringency to normalized values\n",
    "for elig in cont_elig_list:\n",
    "    TP[elig.var_name+'_z_s'] = elig.get_stringency(TP) * TP[elig.var_name+'_z']"
   ]
  },
  {
   "cell_type": "markdown",
   "metadata": {},
   "source": [
    "3.Use the standardized and significance-scaled patients $\\hat{P}_{i}$ to compute a nonlinear regression hyper-surface F with one of the continuous traits (e.g. $\\hat{f}_{n}$m) designated as the dependent variable (and all other traits as independent\n",
    "variables), i.e. $\\hat{f}_{n}=F\\left(\\hat{f}_{1}, \\ldots, \\hat{f}_{n-1}\\right)$"
   ]
  },
  {
   "cell_type": "markdown",
   "metadata": {},
   "source": [
    "4.For every patient (standardized and significance-scaled) $\\hat{P}_{i}$, calculate its residual distance\n",
    "$d_{i}=/ F\\left(\\hat{f}_{1}, \\ldots, \\hat{f}_{n-1}\\right)-\\hat{f}_{n} /$ from the hyper-surface $F$ . Here we use SVM regression model to achieve step 3 and 4."
   ]
  },
  {
   "cell_type": "code",
   "execution_count": 20,
   "metadata": {},
   "outputs": [
    {
     "name": "stderr",
     "output_type": "stream",
     "text": [
      "C:\\Users\\arsla\\Anaconda3\\lib\\site-packages\\sklearn\\svm\\base.py:193: FutureWarning: The default value of gamma will change from 'auto' to 'scale' in version 0.22 to account better for unscaled features. Set gamma explicitly to 'auto' or 'scale' to avoid this warning.\n",
      "  \"avoid this warning.\", FutureWarning)\n"
     ]
    }
   ],
   "source": [
    "# build svm regression model and calculate residual\n",
    "x = np.repeat(1,TP.shape[0]).reshape((TP.shape[0],1))\n",
    "y = np.array(TP.AGE_LAST_PX_z_s)\n",
    "gist_svm = SVR()\n",
    "gist_svm.fit(x, y)\n",
    "y_pred = gist_svm.predict(x)"
   ]
  },
  {
   "cell_type": "markdown",
   "metadata": {},
   "source": [
    "5.Assign a weight $w_{i}$ to every patient $P_{i}$ that is inversely proportional to the patient’s distance di from $F$, i.e. $w_{i}=\\frac{1}{1+d_{i}}$ . (Note that $w_{i} = 1$ when $d_{i} = 0$)."
   ]
  },
  {
   "cell_type": "code",
   "execution_count": 21,
   "metadata": {},
   "outputs": [],
   "source": [
    "TP['f_weight'] = 1 / (1+abs(y_pred - y))"
   ]
  },
  {
   "cell_type": "markdown",
   "metadata": {},
   "source": [
    "6.For a trial T, let the inclusion range (as given in the eligibility criteria) for trait $f_{j}$ be denoted by the set $E_{j}(T)$. The notation\n",
    "implies that\n",
    "the jth trait of patient $P_{i}$ falls within the corresponding inclusion range of the eligibility criteria. Now, the single-trait GIST score $sGIST_{j}$ for trait $f_{j}$\n",
    "is computed as,\n",
    "$$s G I S T_{j}(T)=\\frac{\\sum_{f_{j}^{i} \\in E_{j}(T)} w_{i}}{\\sum_{f_{j}^{i}} w_{i}}$$"
   ]
  },
  {
   "cell_type": "code",
   "execution_count": 22,
   "metadata": {},
   "outputs": [
    {
     "name": "stdout",
     "output_type": "stream",
     "text": [
      "brain_metastases :  0.9376441124828709\n",
      "coagulation :  0.943259521364352\n",
      "angina :  0.9492021075086515\n",
      "MI :  0.8755589781496852\n",
      "HF :  0.8858948696226507\n",
      "ureteral_stents :  1.0\n",
      "pregnant :  0.9963814556168069\n",
      "AGE_LAST_PX :  0.9998932390370622\n"
     ]
    }
   ],
   "source": [
    "# Calculate single GIST score\n",
    "# get_gist function is defined in Elig class\n",
    "for elig in elig_list:\n",
    "    print(elig.var_name, ': ', elig.get_gist(TP))"
   ]
  },
  {
   "cell_type": "markdown",
   "metadata": {},
   "source": [
    "7.The multi-dimensional (overall) eligibility criteria of T is the logical combination of the eligibility criteria of the individual traits. Let the volume defined by the multi-dimensional eligibility criteria be denoted by Eall(T) (e.g. $E_{all}(T)$ = $E_{1}(T)$ AND [$E_{2}(T)$  OR  $E_{3}(T)$]). A patient $P_{i}$ satisfying the overall eligibility criteria for T is said to belong to this volume i.e. $P_{i}$ ∈ Eall(T). Now, the multiple-trait GIST score mGIST of T is\n",
    "computed as, \n",
    "$$\n",
    "m G I S T(T)=\\frac{\\sum_{P_{i} \\in E_{a l l}(T)} w_{i}}{\\sum_{P_{i} \\in E P} w_{i}}\n",
    "$$"
   ]
  },
  {
   "cell_type": "code",
   "execution_count": 23,
   "metadata": {},
   "outputs": [
    {
     "name": "stdout",
     "output_type": "stream",
     "text": [
      "mGIST:  0.695867038771289\n"
     ]
    }
   ],
   "source": [
    "# Calculate multi GIST score\n",
    "mgist_e_list = [e.get_elig(TP) for e in elig_list]\n",
    "mgist_e_subset = functools.reduce(lambda x, y: x&y, mgist_e_list)\n",
    "gmulti = sum(TP.loc[mgist_e_subset, 'f_weight']) / sum(TP.f_weight)\n",
    "print('mGIST: ',gmulti)"
   ]
  }
 ],
 "metadata": {
  "kernelspec": {
   "display_name": "Python 3",
   "language": "python",
   "name": "python3"
  },
  "language_info": {
   "codemirror_mode": {
    "name": "ipython",
    "version": 3
   },
   "file_extension": ".py",
   "mimetype": "text/x-python",
   "name": "python",
   "nbconvert_exporter": "python",
   "pygments_lexer": "ipython3",
   "version": "3.7.6"
  }
 },
 "nbformat": 4,
 "nbformat_minor": 2
}
